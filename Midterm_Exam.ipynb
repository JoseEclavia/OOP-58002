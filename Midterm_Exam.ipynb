{
  "nbformat": 4,
  "nbformat_minor": 0,
  "metadata": {
    "colab": {
      "name": "Midterm_Exam.ipynb",
      "provenance": [],
      "authorship_tag": "ABX9TyNrS1mAlJ/MCUupCxRjCe5M",
      "include_colab_link": true
    },
    "kernelspec": {
      "name": "python3",
      "display_name": "Python 3"
    },
    "language_info": {
      "name": "python"
    }
  },
  "cells": [
    {
      "cell_type": "markdown",
      "metadata": {
        "id": "view-in-github",
        "colab_type": "text"
      },
      "source": [
        "<a href=\"https://colab.research.google.com/github/JoseEclavia/OOP-58002/blob/main/Midterm_Exam.ipynb\" target=\"_parent\"><img src=\"https://colab.research.google.com/assets/colab-badge.svg\" alt=\"Open In Colab\"/></a>"
      ]
    },
    {
      "cell_type": "markdown",
      "source": [
        "Program 1: Modify the program below by adding two conversion methods - Fahrenheit to Celsius and Kelvin to Celsius (50 points)"
      ],
      "metadata": {
        "id": "aRJI-FuDekwd"
      }
    },
    {
      "cell_type": "code",
      "source": [
        "def main():\n",
        "\n",
        "  \n",
        "\n",
        " class TemperatureConversion:\n",
        "\n",
        "  def __init__(self, temp=1):\n",
        "\n",
        "   self._temp = temp\n",
        "\n",
        " class CelsiusToFahrenheit(TemperatureConversion):\n",
        "\n",
        "  def conversion(self):\n",
        "\n",
        "   return (self._temp * 9) / 5 + 32\n",
        "\n",
        " class CelsiusToKelvin(TemperatureConversion):\n",
        "\n",
        "  def conversion(self):\n",
        "\n",
        "   return self._temp + 273.15\n",
        "\n",
        " tempInCelsius = float(input(\"Enter the temperature in Celsius: \"))\n",
        "\n",
        " convert = CelsiusToKelvin(tempInCelsius)\n",
        "\n",
        " print(str(convert.conversion()) + \" Kelvin\")\n",
        "\n",
        " convert = CelsiusToFahrenheit(tempInCelsius)\n",
        "\n",
        " print(str(convert.conversion()) + \" Fahrenheit\")\n",
        "\n",
        "\n",
        "\n",
        "main()\n",
        "\n",
        "\n",
        "\n",
        "def main1():\n",
        "\n",
        "  class ConversionTemperature:\n",
        "\n",
        "   def __init__(self, temp=1):\n",
        "\n",
        "    self._temp = temp\n",
        "\n",
        "  class FahrenheitToCelcius(ConversionTemperature):\n",
        "\n",
        "   def conversion(self):\n",
        "\n",
        "    return (self._temp - 32) * 5 / 9\n",
        "\n",
        "  class KelvinToCelcius(ConversionTemperature):\n",
        "\n",
        "   def conversion(self):\n",
        "\n",
        "    return self._temp - 273.15\n",
        "\n",
        "  tempInKelvin = float(input(\"Enter the temperature in Kelvin: \"))\n",
        "\n",
        "  convert = KelvinToCelcius(tempInKelvin)\n",
        "\n",
        "  print(str(convert.conversion()) + \" Celcius \")\n",
        "\n",
        "  tempInFarenheit = float(input(\"Enter the temperature in Farenheit: \"))\n",
        "\n",
        "  convert = FahrenheitToCelcius(tempInFarenheit)\n",
        "\n",
        "  print(str(convert.conversion()) + \" Celcius \")\n",
        "\n",
        "\n",
        "\n",
        "main1()"
      ],
      "metadata": {
        "colab": {
          "base_uri": "https://localhost:8080/"
        },
        "id": "yfaVF7qyfMq5",
        "outputId": "82b76f27-deb3-47b2-93fc-f2829a4e7387"
      },
      "execution_count": 23,
      "outputs": [
        {
          "output_type": "stream",
          "name": "stdout",
          "text": [
            "Enter the temperature in Celsius: 37\n",
            "310.15 Kelvin\n",
            "98.6 Fahrenheit\n",
            "Enter the temperature in Kelvin: 310.15\n",
            "37.0 Celcius \n",
            "Enter the temperature in Farenheit: 98.6\n",
            "37.0 Celcius \n"
          ]
        }
      ]
    }
  ]
}