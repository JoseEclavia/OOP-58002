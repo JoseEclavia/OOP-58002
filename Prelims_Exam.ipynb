{
  "nbformat": 4,
  "nbformat_minor": 0,
  "metadata": {
    "colab": {
      "name": "Prelims_Exam.ipynb",
      "provenance": [],
      "authorship_tag": "ABX9TyMay9kGpZKL7IY25vR+FAs7",
      "include_colab_link": true
    },
    "kernelspec": {
      "name": "python3",
      "display_name": "Python 3"
    },
    "language_info": {
      "name": "python"
    }
  },
  "cells": [
    {
      "cell_type": "markdown",
      "metadata": {
        "id": "view-in-github",
        "colab_type": "text"
      },
      "source": [
        "<a href=\"https://colab.research.google.com/github/JoseEclavia/OOP-58002/blob/main/Prelims_Exam.ipynb\" target=\"_parent\"><img src=\"https://colab.research.google.com/assets/colab-badge.svg\" alt=\"Open In Colab\"/></a>"
      ]
    },
    {
      "cell_type": "markdown",
      "source": [
        "1. Write a Python to display your full name, student number, age, and course\n",
        "2. Create a class named Student with attributes: Name, Student_No, Age, School, and Course\n",
        "3. Create an object name Myself and assign an instance for each attribute.\n",
        "4. Create a method Self () using an instantiation of a class.\n",
        "5. Insert your GitHub link \"Prelim Exam\" from your repository named \"OOP 58002\""
      ],
      "metadata": {
        "id": "WByF8HAVINox"
      }
    },
    {
      "cell_type": "code",
      "source": [
        "Name = input(\"Student's Name: \")\n",
        "Student_No = int(input(\"Enter Student no.:\"))\n",
        "Age = int(input(\"Enter your age:\"))\n",
        "School = (input(\"Enter name of School:\"))\n",
        "Course = (input(\"Enter the course you're currently taking:\"))\n",
        "print(\"Name:\", Name, \"Student no.:\", Student_No, \"Age\", Age, \"School:\", School, \"course:\", Course)\n",
        "print()\n",
        "print()\n",
        "print(\"Name:\", Name)\n",
        "print(\"Student no.:\", Student_No)\n",
        "print(\"Age:\", Age)\n",
        "print(\"School:\", School)\n",
        "print(\"Course:\", Course)"
      ],
      "metadata": {
        "colab": {
          "base_uri": "https://localhost:8080/"
        },
        "id": "ZJXJRzPnTgqO",
        "outputId": "a3170c65-c355-4781-9620-ae9f8184d662"
      },
      "execution_count": 59,
      "outputs": [
        {
          "output_type": "stream",
          "name": "stdout",
          "text": [
            "Student's Name: Jose Rubender Q Eclavia\n",
            "Enter Student no.:202112343\n",
            "Enter your age:19\n",
            "Enter name of School:Adamson University\n",
            "Enter the course you're currently taking:BS CpE\n",
            "Name: Jose Rubender Q Eclavia Student no.: 202112343 Age 19 School: Adamson University course: BS CpE\n",
            "\n",
            "\n",
            "Name: Jose Rubender Q Eclavia\n",
            "Student no.: 202112343\n",
            "Age: 19\n",
            "School: Adamson University\n",
            "Course: BS CpE\n"
          ]
        }
      ]
    }
  ]
}