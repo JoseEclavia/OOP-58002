{
  "nbformat": 4,
  "nbformat_minor": 0,
  "metadata": {
    "colab": {
      "name": "Operations_and_Expressions.ipynb",
      "provenance": [],
      "authorship_tag": "ABX9TyPc7TmqxrQH5OJMPQfKrv1E",
      "include_colab_link": true
    },
    "kernelspec": {
      "name": "python3",
      "display_name": "Python 3"
    },
    "language_info": {
      "name": "python"
    }
  },
  "cells": [
    {
      "cell_type": "markdown",
      "metadata": {
        "id": "view-in-github",
        "colab_type": "text"
      },
      "source": [
        "<a href=\"https://colab.research.google.com/github/JoseEclavia/OOP-58002/blob/main/Operations_and_Expressions.ipynb\" target=\"_parent\"><img src=\"https://colab.research.google.com/assets/colab-badge.svg\" alt=\"Open In Colab\"/></a>"
      ]
    },
    {
      "cell_type": "markdown",
      "source": [
        "Boolean Operators"
      ],
      "metadata": {
        "id": "2RpyzyPTj5W1"
      }
    },
    {
      "cell_type": "code",
      "source": [
        "a = 7\n",
        "b  = 6\n",
        "\n",
        "print(10>9)\n",
        "print(10<9)\n",
        "print(a>b)"
      ],
      "metadata": {
        "colab": {
          "base_uri": "https://localhost:8080/"
        },
        "id": "qpCEURsDj8sV",
        "outputId": "bc3ed1ac-c204-45da-abce-fb60867123a4"
      },
      "execution_count": 2,
      "outputs": [
        {
          "output_type": "stream",
          "name": "stdout",
          "text": [
            "True\n",
            "False\n",
            "True\n"
          ]
        }
      ]
    },
    {
      "cell_type": "markdown",
      "source": [
        "Bool () Function\n"
      ],
      "metadata": {
        "id": "yFTmQJZHkPWM"
      }
    },
    {
      "cell_type": "code",
      "source": [
        "print(bool(\"Jose\"))\n",
        "print(bool(1))\n",
        "print(bool(0))\n",
        "print(bool(None))\n",
        "print(bool(False))\n",
        "print(bool(True))"
      ],
      "metadata": {
        "colab": {
          "base_uri": "https://localhost:8080/"
        },
        "id": "69PdsBiPkTLd",
        "outputId": "0e42e4fe-0200-4649-d47e-6d4b5efaa7d3"
      },
      "execution_count": 3,
      "outputs": [
        {
          "output_type": "stream",
          "name": "stdout",
          "text": [
            "True\n",
            "True\n",
            "False\n",
            "False\n",
            "False\n",
            "True\n"
          ]
        }
      ]
    },
    {
      "cell_type": "markdown",
      "source": [
        "Function can return a Boolean"
      ],
      "metadata": {
        "id": "KBYm1_36kqks"
      }
    },
    {
      "cell_type": "code",
      "source": [
        "def my_Function():\n",
        "  return True\n",
        "print(my_Function())  "
      ],
      "metadata": {
        "colab": {
          "base_uri": "https://localhost:8080/"
        },
        "id": "Qn60wH0jkubd",
        "outputId": "98cb3548-f679-48a1-ae78-c26c662ebe50"
      },
      "execution_count": 4,
      "outputs": [
        {
          "output_type": "stream",
          "name": "stdout",
          "text": [
            "True\n"
          ]
        }
      ]
    },
    {
      "cell_type": "code",
      "source": [
        "if my_Function():\n",
        "  print(\"True\")\n",
        "else:\n",
        "   print(\"False\") "
      ],
      "metadata": {
        "colab": {
          "base_uri": "https://localhost:8080/"
        },
        "id": "tiiNUvwCk9eV",
        "outputId": "8e9889b6-08cd-4265-f1c6-8bdb09ae5f9d"
      },
      "execution_count": 9,
      "outputs": [
        {
          "output_type": "stream",
          "name": "stdout",
          "text": [
            "True\n"
          ]
        }
      ]
    },
    {
      "cell_type": "markdown",
      "source": [
        "Application 1:"
      ],
      "metadata": {
        "id": "uNGki3PglcMc"
      }
    },
    {
      "cell_type": "code",
      "source": [
        "print (10>9)\n",
        "\n",
        "a=6\n",
        "b=7\n",
        "\n",
        "print(a==b)\n",
        "print(a!=b)\n"
      ],
      "metadata": {
        "colab": {
          "base_uri": "https://localhost:8080/"
        },
        "id": "bAbM44V-leSN",
        "outputId": "c42c0d0b-3bcc-4595-952c-a63322db7ddc"
      },
      "execution_count": 10,
      "outputs": [
        {
          "output_type": "stream",
          "name": "stdout",
          "text": [
            "True\n",
            "False\n",
            "True\n"
          ]
        }
      ]
    },
    {
      "cell_type": "markdown",
      "source": [
        "Python Operators"
      ],
      "metadata": {
        "id": "5S7vf2mxl_B9"
      }
    },
    {
      "cell_type": "code",
      "source": [
        "print(10+5)\n",
        "print(10-5)\n",
        "print(10/3)\n",
        "print(10*5)\n",
        "print(10//3)  #10/3  = 3.3333\n",
        "print(10**2)"
      ],
      "metadata": {
        "colab": {
          "base_uri": "https://localhost:8080/"
        },
        "id": "bPupOVSLmAxs",
        "outputId": "a6ab2f63-b8ae-4f30-ea2e-659cb3a3c684"
      },
      "execution_count": 11,
      "outputs": [
        {
          "output_type": "stream",
          "name": "stdout",
          "text": [
            "15\n",
            "5\n",
            "3.3333333333333335\n",
            "50\n",
            "3\n",
            "100\n"
          ]
        }
      ]
    },
    {
      "cell_type": "markdown",
      "source": [
        "Bitwise Operators"
      ],
      "metadata": {
        "id": "NySUhRbfmV07"
      }
    },
    {
      "cell_type": "code",
      "source": [
        "c = 60 # binary 0011 1100\n",
        "d = 13 # binary 0000 1101\n",
        "\n",
        "c&d\n",
        "print(c|d)\n",
        "print(c^d)\n",
        "\n",
        "print(d<<2)"
      ],
      "metadata": {
        "colab": {
          "base_uri": "https://localhost:8080/"
        },
        "id": "ixAMK007mYHt",
        "outputId": "97b42331-3bbc-4112-c073-6d06028ebbaf"
      },
      "execution_count": 12,
      "outputs": [
        {
          "output_type": "stream",
          "name": "stdout",
          "text": [
            "61\n",
            "49\n",
            "52\n"
          ]
        }
      ]
    },
    {
      "cell_type": "markdown",
      "source": [
        "Logical Operators"
      ],
      "metadata": {
        "id": "Lxg_m8EZm7aM"
      }
    },
    {
      "cell_type": "code",
      "source": [
        "h = True\n",
        "l = False\n",
        "h and l\n",
        "h or l\n",
        "not(h or l)"
      ],
      "metadata": {
        "colab": {
          "base_uri": "https://localhost:8080/"
        },
        "id": "XtC2fqJOm9wx",
        "outputId": "456c68fa-2981-4433-ff20-f7716d68acea"
      },
      "execution_count": 13,
      "outputs": [
        {
          "output_type": "execute_result",
          "data": {
            "text/plain": [
              "False"
            ]
          },
          "metadata": {},
          "execution_count": 13
        }
      ]
    },
    {
      "cell_type": "markdown",
      "source": [
        "Application 2"
      ],
      "metadata": {
        "id": "e7OqMjOBnNZr"
      }
    },
    {
      "cell_type": "code",
      "source": [
        "[]    #Python Assignment Operators"
      ],
      "metadata": {
        "id": "EOogMOm-nPyK"
      },
      "execution_count": null,
      "outputs": []
    },
    {
      "cell_type": "code",
      "source": [
        "x = 100\n",
        "x += 3 # same as x= x+3, x = 100+3=103\n",
        "print(x)"
      ],
      "metadata": {
        "colab": {
          "base_uri": "https://localhost:8080/"
        },
        "id": "ametOgQNnYX1",
        "outputId": "eeb3eae4-8198-48c0-b80e-a6699fbc4a0e"
      },
      "execution_count": 14,
      "outputs": [
        {
          "output_type": "stream",
          "name": "stdout",
          "text": [
            "103\n"
          ]
        }
      ]
    },
    {
      "cell_type": "markdown",
      "source": [
        "Identity Operators"
      ],
      "metadata": {
        "id": "0CW_LQj3nn_m"
      }
    },
    {
      "cell_type": "code",
      "source": [
        "h is l\n",
        "h is not l"
      ],
      "metadata": {
        "colab": {
          "base_uri": "https://localhost:8080/"
        },
        "id": "8aQgbeLCns4-",
        "outputId": "9b59623b-b70e-4e4c-8b30-2cbdca1da438"
      },
      "execution_count": 15,
      "outputs": [
        {
          "output_type": "execute_result",
          "data": {
            "text/plain": [
              "True"
            ]
          },
          "metadata": {},
          "execution_count": 15
        }
      ]
    },
    {
      "cell_type": "markdown",
      "source": [
        "**Control** **structure**"
      ],
      "metadata": {
        "id": "H1dpmGxsnynU"
      }
    },
    {
      "cell_type": "markdown",
      "source": [
        "If Statement"
      ],
      "metadata": {
        "id": "8eS63WVvn6-S"
      }
    },
    {
      "cell_type": "code",
      "source": [
        "if a>b:\n",
        "  print(\"a is greater than b\")\n",
        "  "
      ],
      "metadata": {
        "id": "n9kyTQMFn-zb"
      },
      "execution_count": null,
      "outputs": []
    },
    {
      "cell_type": "markdown",
      "source": [
        "Elif Statement"
      ],
      "metadata": {
        "id": "1dYefK4koIEA"
      }
    },
    {
      "cell_type": "code",
      "source": [
        "if a<b:\n",
        "  print(\"a is less than b\")\n",
        "elif a>b:\n",
        "    print(\"a is greater than b\")"
      ],
      "metadata": {
        "colab": {
          "base_uri": "https://localhost:8080/"
        },
        "id": "EX_z0XRkoKjr",
        "outputId": "3aeec121-85b2-44ff-b46c-f06b43a85219"
      },
      "execution_count": 17,
      "outputs": [
        {
          "output_type": "stream",
          "name": "stdout",
          "text": [
            "a is less than b\n"
          ]
        }
      ]
    },
    {
      "cell_type": "markdown",
      "source": [
        "Else Statement"
      ],
      "metadata": {
        "id": "2o8efl_uoZnb"
      }
    },
    {
      "cell_type": "code",
      "source": [
        "a = 10\n",
        "b = 10\n",
        "\n",
        "if a<b:\n",
        "  print(\"a is less than b\")\n",
        "elif a>b:\n",
        "  print(\" a is greater than b\")\n",
        "else:\n",
        "  print(\"a is equal to b\")  \n"
      ],
      "metadata": {
        "colab": {
          "base_uri": "https://localhost:8080/"
        },
        "id": "l42YuaW2olbe",
        "outputId": "40bcd7e8-3edd-4291-f32f-902ba3aec1f1"
      },
      "execution_count": 18,
      "outputs": [
        {
          "output_type": "stream",
          "name": "stdout",
          "text": [
            "a is equal to b\n"
          ]
        }
      ]
    },
    {
      "cell_type": "markdown",
      "source": [
        "Short hand If..else statement"
      ],
      "metadata": {
        "id": "62ohpYfno9gU"
      }
    },
    {
      "cell_type": "code",
      "source": [
        "a= 10\n",
        "a= 9\n",
        "print(\"a is greater than b\") if a>b else print('b is greater than a')"
      ],
      "metadata": {
        "colab": {
          "base_uri": "https://localhost:8080/"
        },
        "id": "9my1tj1-pDe_",
        "outputId": "cb122ebb-cf13-4842-bd2b-9225b7bd9646"
      },
      "execution_count": 19,
      "outputs": [
        {
          "output_type": "stream",
          "name": "stdout",
          "text": [
            "b is greater than a\n"
          ]
        }
      ]
    },
    {
      "cell_type": "markdown",
      "source": [
        "And"
      ],
      "metadata": {
        "id": "2BoRs7KCpTE0"
      }
    },
    {
      "cell_type": "code",
      "source": [
        "if a>b and b==b:\n",
        "  print(\" Both conditions are true\")"
      ],
      "metadata": {
        "id": "pTs-dEGcpT9O"
      },
      "execution_count": 21,
      "outputs": []
    },
    {
      "cell_type": "markdown",
      "source": [
        "Or"
      ],
      "metadata": {
        "id": "nbs0RU3Hpkoo"
      }
    },
    {
      "cell_type": "code",
      "source": [
        "if a<b or b==b:\n",
        "  print(\"The condition is true\")"
      ],
      "metadata": {
        "colab": {
          "base_uri": "https://localhost:8080/"
        },
        "id": "EQgfMZrVpljd",
        "outputId": "77aa292b-29b8-48cb-bfeb-48aad20a1e8f"
      },
      "execution_count": 22,
      "outputs": [
        {
          "output_type": "stream",
          "name": "stdout",
          "text": [
            "The condition is true\n"
          ]
        }
      ]
    },
    {
      "cell_type": "markdown",
      "source": [
        "Nested if"
      ],
      "metadata": {
        "id": "82MCpCGLpvHn"
      }
    },
    {
      "cell_type": "code",
      "source": [
        "if x>10:\n",
        "  print(\"x is above 10\")\n",
        "  if x>20:\n",
        "    print(\"and also above 20\")\n",
        "    if x>30:\n",
        "      print(\"and also above 30\")\n",
        "      if x>40:\n",
        "        print(\"and also above 40\")\n",
        "        if x>50:\n",
        "          print(\"and also above 50\")\n",
        "        else:\n",
        "            print(\"but not above 50\")"
      ],
      "metadata": {
        "colab": {
          "base_uri": "https://localhost:8080/"
        },
        "id": "VwrckVAGpxJN",
        "outputId": "3f9a05e4-c936-456b-c7be-357fdbb658ac"
      },
      "execution_count": 24,
      "outputs": [
        {
          "output_type": "stream",
          "name": "stdout",
          "text": [
            "x is above 10\n",
            "and also above 20\n",
            "and also above 30\n",
            "and also above 40\n",
            "and also above 50\n"
          ]
        }
      ]
    },
    {
      "cell_type": "markdown",
      "source": [
        "**Loop** **Statement**"
      ],
      "metadata": {
        "id": "J9ZEYxHAqb51"
      }
    },
    {
      "cell_type": "code",
      "source": [
        "week=['Sunday',\"Monday\",'Tuesday',\"wednesday\",\"Thursday\",\"Friday\",\"Saturday\"]\n",
        "\n",
        "for x in week:\n",
        "  print(x)"
      ],
      "metadata": {
        "colab": {
          "base_uri": "https://localhost:8080/"
        },
        "id": "J0yaTQ2KqfhU",
        "outputId": "7eac4810-367f-49ae-d027-1d5c233172f8"
      },
      "execution_count": 27,
      "outputs": [
        {
          "output_type": "stream",
          "name": "stdout",
          "text": [
            "Sunday\n",
            "Monday\n",
            "Tuesday\n",
            "wednesday\n",
            "Thursday\n",
            "Friday\n",
            "Saturday\n"
          ]
        }
      ]
    },
    {
      "cell_type": "markdown",
      "source": [
        "The break Statement"
      ],
      "metadata": {
        "id": "MFN6ApjDrGug"
      }
    },
    {
      "cell_type": "code",
      "source": [
        "#to display Sunday to Wednesday using for loop\n",
        "for x in week:\n",
        "  print(x)\n",
        "  if x==\"Wednesday\":\n",
        "   break"
      ],
      "metadata": {
        "colab": {
          "base_uri": "https://localhost:8080/"
        },
        "id": "ZJaFFY8srP6X",
        "outputId": "1335d18d-37c6-4b76-aef9-681ab962d44c"
      },
      "execution_count": 31,
      "outputs": [
        {
          "output_type": "stream",
          "name": "stdout",
          "text": [
            "Sunday\n",
            "Monday\n",
            "Tuesday\n",
            "wednesday\n",
            "Thursday\n",
            "Friday\n",
            "Saturday\n"
          ]
        }
      ]
    },
    {
      "cell_type": "markdown",
      "source": [
        "While Statement"
      ],
      "metadata": {
        "id": "QcSqZFrWrsPr"
      }
    },
    {
      "cell_type": "code",
      "source": [
        "i =1\n",
        "while i<6:\n",
        "  print(i)\n",
        "  i+=1 #same as i = i+1"
      ],
      "metadata": {
        "colab": {
          "base_uri": "https://localhost:8080/"
        },
        "id": "G3sWiF1VrvUf",
        "outputId": "9cbd4992-3daa-4e9d-bffb-a8bf4fa97d04"
      },
      "execution_count": 32,
      "outputs": [
        {
          "output_type": "stream",
          "name": "stdout",
          "text": [
            "1\n",
            "2\n",
            "3\n",
            "4\n",
            "5\n"
          ]
        }
      ]
    },
    {
      "cell_type": "markdown",
      "source": [
        "Application 3"
      ],
      "metadata": {
        "id": "TPoKVBHgr-qP"
      }
    },
    {
      "cell_type": "code",
      "source": [
        "i = 1\n",
        "while i<6:\n",
        "  if i==3:\n",
        "    break\n",
        "  i+=1\n",
        "  print(i)  "
      ],
      "metadata": {
        "colab": {
          "base_uri": "https://localhost:8080/"
        },
        "id": "ooSFOOSbsBUx",
        "outputId": "80da814c-a243-4399-9936-08b24d74fa47"
      },
      "execution_count": 35,
      "outputs": [
        {
          "output_type": "stream",
          "name": "stdout",
          "text": [
            "2\n",
            "3\n"
          ]
        }
      ]
    }
  ]
}