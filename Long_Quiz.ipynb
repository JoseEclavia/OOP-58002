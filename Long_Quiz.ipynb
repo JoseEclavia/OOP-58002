{
  "nbformat": 4,
  "nbformat_minor": 0,
  "metadata": {
    "colab": {
      "name": "Long_Quiz.ipynb",
      "provenance": [],
      "authorship_tag": "ABX9TyMBhgDB+Z5Ew2j+ORJz8FBR",
      "include_colab_link": true
    },
    "kernelspec": {
      "name": "python3",
      "display_name": "Python 3"
    },
    "language_info": {
      "name": "python"
    }
  },
  "cells": [
    {
      "cell_type": "markdown",
      "metadata": {
        "id": "view-in-github",
        "colab_type": "text"
      },
      "source": [
        "<a href=\"https://colab.research.google.com/github/JoseEclavia/OOP-58002/blob/main/Long_Quiz.ipynb\" target=\"_parent\"><img src=\"https://colab.research.google.com/assets/colab-badge.svg\" alt=\"Open In Colab\"/></a>"
      ]
    },
    {
      "cell_type": "markdown",
      "source": [
        "Write a Python program that asks the user to enter celcius and convert it to fahrenheit"
      ],
      "metadata": {
        "id": "PazPGOBwOTMW"
      }
    },
    {
      "cell_type": "code",
      "source": [
        "class Temperature():\n",
        "  def __init__(self,Celsius):\n",
        "    self.Celsius = Celsius\n",
        "  \n",
        "  def Fahrenheit(self):\n",
        "    result = float((9 * self.Celsius) / 5 + 32)\n",
        "    return result\n",
        "\n",
        "\n",
        "input_Temperature = float(input(\"Please enter a Temperature in Celsius: \"))\n",
        "Temperature1 = Temperature(input_Temperature)\n",
        "\n",
        "print(Temperature1.Fahrenheit())"
      ],
      "metadata": {
        "colab": {
          "base_uri": "https://localhost:8080/"
        },
        "id": "LBzB70PvWN-6",
        "outputId": "f706073d-f93c-4211-9379-1b94d9c02b2a"
      },
      "execution_count": 26,
      "outputs": [
        {
          "output_type": "stream",
          "name": "stdout",
          "text": [
            "Please enter a Temperature in Celsius: 39\n",
            "102.2\n"
          ]
        }
      ]
    }
  ]
}