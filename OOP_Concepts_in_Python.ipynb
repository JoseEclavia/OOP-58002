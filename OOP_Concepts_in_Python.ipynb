{
  "nbformat": 4,
  "nbformat_minor": 0,
  "metadata": {
    "colab": {
      "name": "OOP_Concepts_in_Python.ipynb",
      "provenance": [],
      "authorship_tag": "ABX9TyO5OpRtNLe/XhPsL3te/bNH",
      "include_colab_link": true
    },
    "kernelspec": {
      "name": "python3",
      "display_name": "Python 3"
    },
    "language_info": {
      "name": "python"
    }
  },
  "cells": [
    {
      "cell_type": "markdown",
      "metadata": {
        "id": "view-in-github",
        "colab_type": "text"
      },
      "source": [
        "<a href=\"https://colab.research.google.com/github/JoseEclavia/OOP-58002/blob/main/OOP_Concepts_in_Python.ipynb\" target=\"_parent\"><img src=\"https://colab.research.google.com/assets/colab-badge.svg\" alt=\"Open In Colab\"/></a>"
      ]
    },
    {
      "cell_type": "markdown",
      "source": [
        "Create Class"
      ],
      "metadata": {
        "id": "F7GlP8N9VarY"
      }
    },
    {
      "cell_type": "code",
      "source": [
        "class Car:\n",
        "  pass"
      ],
      "metadata": {
        "id": "ARXJe_fLVceL"
      },
      "execution_count": 1,
      "outputs": []
    },
    {
      "cell_type": "markdown",
      "source": [
        "Create Object"
      ],
      "metadata": {
        "id": "HyoIXdNHVjPo"
      }
    },
    {
      "cell_type": "code",
      "source": [
        "class Car:\n",
        " def __init__(self,name,color): #all classes have function called __init__:\n",
        "  self.name = name              #attribute names of class named Card\n",
        "  self.color = color\n",
        "\n",
        " def description(self):\n",
        "    return \"The\" + self.name +\"has a color\" + self.color\n",
        "\n",
        " def show(self):\n",
        "  print(\"The\"+\" \"+self.name+\" \"+\"has a color\"+\" \"+self.color)\n",
        "\n",
        "car1 = Car(\"Honda City\",\"White\")\n",
        "car1.show()"
      ],
      "metadata": {
        "colab": {
          "base_uri": "https://localhost:8080/"
        },
        "id": "2-sI-cwmVmYn",
        "outputId": "975b4800-2943-4b9c-8aaf-1d4c62e6bb46"
      },
      "execution_count": 2,
      "outputs": [
        {
          "output_type": "stream",
          "name": "stdout",
          "text": [
            "The Honda City has a color White\n"
          ]
        }
      ]
    },
    {
      "cell_type": "markdown",
      "source": [
        "Object Methods"
      ],
      "metadata": {
        "id": "f0d8pc0HV0TR"
      }
    },
    {
      "cell_type": "code",
      "source": [
        "class Person:\n",
        " def __init__(self,name,age):\n",
        "  self.name = name \n",
        "  self.age = age\n",
        " def myFunction(self):\n",
        "  print(\"Hello! My names is\",self.name)\n",
        "  print(\"I am\",self.age,\"Years old\")\n",
        "\n",
        "p1= Person(\"Jose\",19)\n",
        "p1.myFunction()"
      ],
      "metadata": {
        "colab": {
          "base_uri": "https://localhost:8080/"
        },
        "id": "YVKEC-KlV4Ho",
        "outputId": "d212d086-53f2-4d41-918c-402bffc58467"
      },
      "execution_count": 3,
      "outputs": [
        {
          "output_type": "stream",
          "name": "stdout",
          "text": [
            "Hello! My names is Jose\n",
            "I am 19 Years old\n"
          ]
        }
      ]
    },
    {
      "cell_type": "code",
      "source": [
        "class Car:\n",
        " def __init__(self,name,color): #all classes have function called __init__:\n",
        "  self.name = name              #attribute names of class named Card\n",
        "  self.color = color\n",
        "\n",
        " def description(self):\n",
        "    return \"The\" + self.name +\"has a color\" + self.color\n",
        "\n",
        " def show(self):\n",
        "  print(\"The\"+\" \"+self.name+\" \"+\"has a color\"+\" \"+self.color)\n",
        "\n",
        "car1 = Car(\"Honda City\",\"White\")\n",
        "car1.show()"
      ],
      "metadata": {
        "colab": {
          "base_uri": "https://localhost:8080/"
        },
        "id": "gkBXPLgsWaJo",
        "outputId": "af44b44d-1ed2-47d0-d0ee-740c52a4adeb"
      },
      "execution_count": 4,
      "outputs": [
        {
          "output_type": "stream",
          "name": "stdout",
          "text": [
            "The Honda City has a color White\n"
          ]
        }
      ]
    },
    {
      "cell_type": "markdown",
      "source": [
        "Modify and Object Property"
      ],
      "metadata": {
        "id": "2VwmPgLVWjin"
      }
    },
    {
      "cell_type": "code",
      "source": [
        "car1.name = \"Mitsubishi\"\n",
        "print(car1.name)\n",
        "\n",
        "car1.color = \"Silver\"\n",
        "print(car1.color)"
      ],
      "metadata": {
        "colab": {
          "base_uri": "https://localhost:8080/"
        },
        "id": "v44H5M0EWnaT",
        "outputId": "c8f12bb9-9888-4e3b-9abf-07fe3b4b6e6a"
      },
      "execution_count": 5,
      "outputs": [
        {
          "output_type": "stream",
          "name": "stdout",
          "text": [
            "Mitsubishi\n",
            "Silver\n"
          ]
        }
      ]
    },
    {
      "cell_type": "markdown",
      "source": [
        "Delete an object property"
      ],
      "metadata": {
        "id": "_MhckStQWt2B"
      }
    },
    {
      "cell_type": "code",
      "source": [
        "del car1.color\n",
        "print(car1.color)"
      ],
      "metadata": {
        "id": "AhOwLmQNXjRJ"
      },
      "execution_count": null,
      "outputs": []
    },
    {
      "cell_type": "code",
      "source": [
        "print(car1.name)\n",
        "print(car1.color)"
      ],
      "metadata": {
        "id": "WQ0jrcG7XuaU"
      },
      "execution_count": null,
      "outputs": []
    },
    {
      "cell_type": "markdown",
      "source": [
        "Application 1 - Write a Python program that computes for the Are and Perimeter of a Square, and create a class name Square with side as its attribute"
      ],
      "metadata": {
        "id": "ej0GDxvbYO0I"
      }
    },
    {
      "cell_type": "code",
      "source": [
        "#Area of a Square = s*s\n",
        "#Perimeter of a Square = 4*s = s+s+s+s\n",
        "\n",
        "class Square:\n",
        " def __init__(self,side):\n",
        "  self.side = side\n",
        "\n",
        " def Area(self):\n",
        "  return self.side*self.side\n",
        "\n",
        " def Perimeter(self):\n",
        "  return 4*(self.side)\n",
        "\n",
        " def display(self):\n",
        "  print(\"The area of a square is\",self.Area())\n",
        "  print(\"The perimeter of a square is\",self.Perimeter())\n",
        "\n",
        "sq1 = Square(2)\n",
        "sq1.display()"
      ],
      "metadata": {
        "colab": {
          "base_uri": "https://localhost:8080/"
        },
        "id": "o9OPBJIRYSHI",
        "outputId": "a4721404-e21c-4873-db5c-4be7a8386e74"
      },
      "execution_count": 15,
      "outputs": [
        {
          "output_type": "stream",
          "name": "stdout",
          "text": [
            "The area of a square is 4\n",
            "The perimeter of a square is 8\n"
          ]
        }
      ]
    },
    {
      "cell_type": "markdown",
      "source": [
        "Application 2 - Write a Python program that displays your sudent no. and fullname(Surname, First Name MI) and create a class name OOP_58002"
      ],
      "metadata": {
        "id": "gf7WI6i5YY3-"
      }
    },
    {
      "cell_type": "code",
      "source": [
        "class Person:\n",
        " def __init__(self,student,number):\n",
        "  self.student = student\n",
        "  self.number = number\n",
        "\n",
        " def myFunction(self):\n",
        "  print(\"I am\",self.student,\"and my student number is\", self.number)\n",
        "  print(\"Section - OOP_58002\")\n",
        "\n",
        "\n",
        "p1= Person(\"Eclavia,Jose Rubender Q \", 202112343)\n",
        "p1.myFunction()"
      ],
      "metadata": {
        "colab": {
          "base_uri": "https://localhost:8080/"
        },
        "id": "WztXdp_bYZ7w",
        "outputId": "467f0695-c58a-48b4-9a26-8bbb1fa080e6"
      },
      "execution_count": 16,
      "outputs": [
        {
          "output_type": "stream",
          "name": "stdout",
          "text": [
            "I am Eclavia,Jose Rubender Q  and my student number is 202112343\n",
            "Section - OOP_58002\n"
          ]
        }
      ]
    }
  ]
}