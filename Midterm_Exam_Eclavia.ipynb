{
  "nbformat": 4,
  "nbformat_minor": 0,
  "metadata": {
    "colab": {
      "name": "Midterm_Exam-Eclavia.ipynb",
      "provenance": [],
      "authorship_tag": "ABX9TyNWF+OSVszNG7qVv7VVkyF2",
      "include_colab_link": true
    },
    "kernelspec": {
      "name": "python3",
      "display_name": "Python 3"
    },
    "language_info": {
      "name": "python"
    }
  },
  "cells": [
    {
      "cell_type": "markdown",
      "metadata": {
        "id": "view-in-github",
        "colab_type": "text"
      },
      "source": [
        "<a href=\"https://colab.research.google.com/github/JoseEclavia/OOP-58002/blob/main/Midterm_Exam_Eclavia.ipynb\" target=\"_parent\"><img src=\"https://colab.research.google.com/assets/colab-badge.svg\" alt=\"Open In Colab\"/></a>"
      ]
    },
    {
      "cell_type": "markdown",
      "source": [
        "Program 1: Modify the program below by adding two conversion methods - Fahrenheit to Celsius and Kelvin to Celsius (50 points)"
      ],
      "metadata": {
        "id": "aRJI-FuDekwd"
      }
    },
    {
      "cell_type": "code",
      "source": [
        "def main():\n",
        "\n",
        "  \n",
        "\n",
        " class TemperatureConversion:\n",
        "\n",
        "  def __init__ (self, temp=1):\n",
        "\n",
        "   self._temp = temp\n",
        "\n",
        " class CelsiusToFahrenheit(TemperatureConversion):\n",
        "\n",
        "  def conversion(self):\n",
        "\n",
        "   return (self._temp * 9) / 5 + 32\n",
        "\n",
        " class CelsiusToKelvin(TemperatureConversion):\n",
        "\n",
        "  def conversion(self):\n",
        "\n",
        "   return self._temp + 273.15\n",
        "\n",
        " tempInCelsius = float(input(\"Enter the temperature in Celsius: \"))\n",
        "\n",
        " convert = CelsiusToKelvin(tempInCelsius)\n",
        "\n",
        " print(str(convert.conversion()) + \" Kelvin\")\n",
        "\n",
        " convert = CelsiusToFahrenheit(tempInCelsius)\n",
        "\n",
        " print(str(convert.conversion()) + \" Fahrenheit\")\n",
        "\n",
        "\n",
        "\n",
        "main()\n",
        "\n",
        "def main():\n",
        "\n",
        "\n",
        "\n",
        " class TemperatureConversion:\n",
        "\n",
        "  def __init__ (self, temp=1):\n",
        "\n",
        "   self._temp = temp\n",
        "\n",
        " class FahrenheitToCelcius(TemperatureConversion):\n",
        "\n",
        "  def conversion(self):\n",
        "\n",
        "   return (self._temp - 32) * 5 / 9\n",
        "\n",
        " class KelvinToCelcius(TemperatureConversion):\n",
        "\n",
        "  def conversion(self):\n",
        "\n",
        "   return self._temp - 273.15\n",
        "\n",
        " tempInKelvin = float(input(\"Enter the temperature in Kelvin: \"))\n",
        " \n",
        " tempInFarenheit = float(input(\"Enter the temperature in Farenheit: \"))\n",
        "\n",
        " convert = KelvinToCelcius(tempInKelvin)\n",
        "\n",
        " print(str(convert.conversion()) + \" Celcius from Kelvin\")\n",
        "\n",
        " convert = FahrenheitToCelcius(tempInFarenheit)\n",
        "\n",
        " print(str(convert.conversion()) + \" Celcius From Fahrenheit\")\n",
        "\n",
        "\n",
        "\n",
        "main()"
      ],
      "metadata": {
        "colab": {
          "base_uri": "https://localhost:8080/"
        },
        "id": "JaZRRUm3k4RK",
        "outputId": "60bfc9cd-4859-44ab-a0a0-3d4ae1e6e7ca"
      },
      "execution_count": 25,
      "outputs": [
        {
          "output_type": "stream",
          "name": "stdout",
          "text": [
            "Enter the temperature in Celsius: 36\n",
            "309.15 Kelvin\n",
            "96.8 Fahrenheit\n",
            "Enter the temperature in Kelvin: 309.15\n",
            "Enter the temperature in Farenheit: 96.8\n",
            "36.0 Celcius from Kelvin\n",
            "36.0 Celcius From Fahrenheit\n"
          ]
        }
      ]
    }
  ]
}